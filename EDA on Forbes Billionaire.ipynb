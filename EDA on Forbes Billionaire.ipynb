{
 "cells": [
  {
   "cell_type": "markdown",
   "id": "4a9bf211",
   "metadata": {},
   "source": [
    "**Descriptive Analysis**"
   ]
  },
  {
   "cell_type": "code",
   "execution_count": 2,
   "id": "4e5b1792",
   "metadata": {},
   "outputs": [],
   "source": [
    "# import the packages\n",
    "#shift+tab to get documentation \n",
    "#Tab to get suggestion for command\n",
    "import numpy as np #for arrays\n",
    "import pandas as pd #modify,edit\n",
    "import matplotlib.pyplot as plt\n",
    "import seaborn as sns #data visualisation"
   ]
  },
  {
   "cell_type": "code",
   "execution_count": 3,
   "id": "c468ac15",
   "metadata": {},
   "outputs": [],
   "source": [
    "df=pd.read_csv('Forbes Billionaire 2020-1.csv')"
   ]
  },
  {
   "cell_type": "code",
   "execution_count": 4,
   "id": "cee939ce",
   "metadata": {},
   "outputs": [
    {
     "data": {
      "text/html": [
       "<div>\n",
       "<style scoped>\n",
       "    .dataframe tbody tr th:only-of-type {\n",
       "        vertical-align: middle;\n",
       "    }\n",
       "\n",
       "    .dataframe tbody tr th {\n",
       "        vertical-align: top;\n",
       "    }\n",
       "\n",
       "    .dataframe thead th {\n",
       "        text-align: right;\n",
       "    }\n",
       "</style>\n",
       "<table border=\"1\" class=\"dataframe\">\n",
       "  <thead>\n",
       "    <tr style=\"text-align: right;\">\n",
       "      <th></th>\n",
       "      <th>Name</th>\n",
       "      <th>NetWorth in billions</th>\n",
       "      <th>Country</th>\n",
       "      <th>Source</th>\n",
       "      <th>Rank</th>\n",
       "      <th>Age</th>\n",
       "      <th>Industry</th>\n",
       "    </tr>\n",
       "  </thead>\n",
       "  <tbody>\n",
       "    <tr>\n",
       "      <th>0</th>\n",
       "      <td>Jeff Bezos</td>\n",
       "      <td>177.0</td>\n",
       "      <td>United States</td>\n",
       "      <td>Amazon</td>\n",
       "      <td>1</td>\n",
       "      <td>57</td>\n",
       "      <td>Technology</td>\n",
       "    </tr>\n",
       "    <tr>\n",
       "      <th>1</th>\n",
       "      <td>Elon Musk</td>\n",
       "      <td>151.0</td>\n",
       "      <td>United States</td>\n",
       "      <td>Tesla, SpaceX</td>\n",
       "      <td>2</td>\n",
       "      <td>49</td>\n",
       "      <td>Automotive</td>\n",
       "    </tr>\n",
       "    <tr>\n",
       "      <th>2</th>\n",
       "      <td>Bernard Arnault &amp; family</td>\n",
       "      <td>150.0</td>\n",
       "      <td>France</td>\n",
       "      <td>LVMH</td>\n",
       "      <td>3</td>\n",
       "      <td>72</td>\n",
       "      <td>Fashion &amp; Retail</td>\n",
       "    </tr>\n",
       "    <tr>\n",
       "      <th>3</th>\n",
       "      <td>Bill Gates</td>\n",
       "      <td>124.0</td>\n",
       "      <td>United States</td>\n",
       "      <td>Microsoft</td>\n",
       "      <td>4</td>\n",
       "      <td>65</td>\n",
       "      <td>Technology</td>\n",
       "    </tr>\n",
       "    <tr>\n",
       "      <th>4</th>\n",
       "      <td>Mark Zuckerberg</td>\n",
       "      <td>97.0</td>\n",
       "      <td>United States</td>\n",
       "      <td>Facebook</td>\n",
       "      <td>5</td>\n",
       "      <td>36</td>\n",
       "      <td>Technology</td>\n",
       "    </tr>\n",
       "  </tbody>\n",
       "</table>\n",
       "</div>"
      ],
      "text/plain": [
       "                       Name  NetWorth in billions        Country  \\\n",
       "0                Jeff Bezos                 177.0  United States   \n",
       "1                 Elon Musk                 151.0  United States   \n",
       "2  Bernard Arnault & family                 150.0         France   \n",
       "3                Bill Gates                 124.0  United States   \n",
       "4           Mark Zuckerberg                  97.0  United States   \n",
       "\n",
       "          Source  Rank  Age          Industry  \n",
       "0         Amazon     1   57        Technology  \n",
       "1  Tesla, SpaceX     2   49        Automotive  \n",
       "2           LVMH     3   72  Fashion & Retail  \n",
       "3      Microsoft     4   65        Technology  \n",
       "4       Facebook     5   36        Technology  "
      ]
     },
     "execution_count": 4,
     "metadata": {},
     "output_type": "execute_result"
    }
   ],
   "source": [
    "df.head()"
   ]
  },
  {
   "cell_type": "code",
   "execution_count": 5,
   "id": "ddbbde2a",
   "metadata": {},
   "outputs": [
    {
     "name": "stdout",
     "output_type": "stream",
     "text": [
      "<class 'pandas.core.frame.DataFrame'>\n",
      "RangeIndex: 2755 entries, 0 to 2754\n",
      "Data columns (total 7 columns):\n",
      " #   Column                Non-Null Count  Dtype  \n",
      "---  ------                --------------  -----  \n",
      " 0   Name                  2755 non-null   object \n",
      " 1   NetWorth in billions  2755 non-null   float64\n",
      " 2   Country               2755 non-null   object \n",
      " 3   Source                2755 non-null   object \n",
      " 4   Rank                  2755 non-null   int64  \n",
      " 5   Age                   2755 non-null   int64  \n",
      " 6   Industry              2755 non-null   object \n",
      "dtypes: float64(1), int64(2), object(4)\n",
      "memory usage: 150.8+ KB\n"
     ]
    }
   ],
   "source": [
    "df.info()"
   ]
  },
  {
   "cell_type": "code",
   "execution_count": 6,
   "id": "7c822a14",
   "metadata": {},
   "outputs": [
    {
     "data": {
      "text/html": [
       "<div>\n",
       "<style scoped>\n",
       "    .dataframe tbody tr th:only-of-type {\n",
       "        vertical-align: middle;\n",
       "    }\n",
       "\n",
       "    .dataframe tbody tr th {\n",
       "        vertical-align: top;\n",
       "    }\n",
       "\n",
       "    .dataframe thead th {\n",
       "        text-align: right;\n",
       "    }\n",
       "</style>\n",
       "<table border=\"1\" class=\"dataframe\">\n",
       "  <thead>\n",
       "    <tr style=\"text-align: right;\">\n",
       "      <th></th>\n",
       "      <th>Name</th>\n",
       "      <th>NetWorth in billions</th>\n",
       "      <th>Country</th>\n",
       "      <th>Source</th>\n",
       "      <th>Rank</th>\n",
       "      <th>Age</th>\n",
       "      <th>Industry</th>\n",
       "    </tr>\n",
       "  </thead>\n",
       "  <tbody>\n",
       "    <tr>\n",
       "      <th>0</th>\n",
       "      <td>False</td>\n",
       "      <td>False</td>\n",
       "      <td>False</td>\n",
       "      <td>False</td>\n",
       "      <td>False</td>\n",
       "      <td>False</td>\n",
       "      <td>False</td>\n",
       "    </tr>\n",
       "    <tr>\n",
       "      <th>1</th>\n",
       "      <td>False</td>\n",
       "      <td>False</td>\n",
       "      <td>False</td>\n",
       "      <td>False</td>\n",
       "      <td>False</td>\n",
       "      <td>False</td>\n",
       "      <td>False</td>\n",
       "    </tr>\n",
       "    <tr>\n",
       "      <th>2</th>\n",
       "      <td>False</td>\n",
       "      <td>False</td>\n",
       "      <td>False</td>\n",
       "      <td>False</td>\n",
       "      <td>False</td>\n",
       "      <td>False</td>\n",
       "      <td>False</td>\n",
       "    </tr>\n",
       "    <tr>\n",
       "      <th>3</th>\n",
       "      <td>False</td>\n",
       "      <td>False</td>\n",
       "      <td>False</td>\n",
       "      <td>False</td>\n",
       "      <td>False</td>\n",
       "      <td>False</td>\n",
       "      <td>False</td>\n",
       "    </tr>\n",
       "    <tr>\n",
       "      <th>4</th>\n",
       "      <td>False</td>\n",
       "      <td>False</td>\n",
       "      <td>False</td>\n",
       "      <td>False</td>\n",
       "      <td>False</td>\n",
       "      <td>False</td>\n",
       "      <td>False</td>\n",
       "    </tr>\n",
       "    <tr>\n",
       "      <th>...</th>\n",
       "      <td>...</td>\n",
       "      <td>...</td>\n",
       "      <td>...</td>\n",
       "      <td>...</td>\n",
       "      <td>...</td>\n",
       "      <td>...</td>\n",
       "      <td>...</td>\n",
       "    </tr>\n",
       "    <tr>\n",
       "      <th>2750</th>\n",
       "      <td>False</td>\n",
       "      <td>False</td>\n",
       "      <td>False</td>\n",
       "      <td>False</td>\n",
       "      <td>False</td>\n",
       "      <td>False</td>\n",
       "      <td>False</td>\n",
       "    </tr>\n",
       "    <tr>\n",
       "      <th>2751</th>\n",
       "      <td>False</td>\n",
       "      <td>False</td>\n",
       "      <td>False</td>\n",
       "      <td>False</td>\n",
       "      <td>False</td>\n",
       "      <td>False</td>\n",
       "      <td>False</td>\n",
       "    </tr>\n",
       "    <tr>\n",
       "      <th>2752</th>\n",
       "      <td>False</td>\n",
       "      <td>False</td>\n",
       "      <td>False</td>\n",
       "      <td>False</td>\n",
       "      <td>False</td>\n",
       "      <td>False</td>\n",
       "      <td>False</td>\n",
       "    </tr>\n",
       "    <tr>\n",
       "      <th>2753</th>\n",
       "      <td>False</td>\n",
       "      <td>False</td>\n",
       "      <td>False</td>\n",
       "      <td>False</td>\n",
       "      <td>False</td>\n",
       "      <td>False</td>\n",
       "      <td>False</td>\n",
       "    </tr>\n",
       "    <tr>\n",
       "      <th>2754</th>\n",
       "      <td>False</td>\n",
       "      <td>False</td>\n",
       "      <td>False</td>\n",
       "      <td>False</td>\n",
       "      <td>False</td>\n",
       "      <td>False</td>\n",
       "      <td>False</td>\n",
       "    </tr>\n",
       "  </tbody>\n",
       "</table>\n",
       "<p>2755 rows × 7 columns</p>\n",
       "</div>"
      ],
      "text/plain": [
       "       Name  NetWorth in billions  Country  Source   Rank    Age  Industry\n",
       "0     False                 False    False   False  False  False     False\n",
       "1     False                 False    False   False  False  False     False\n",
       "2     False                 False    False   False  False  False     False\n",
       "3     False                 False    False   False  False  False     False\n",
       "4     False                 False    False   False  False  False     False\n",
       "...     ...                   ...      ...     ...    ...    ...       ...\n",
       "2750  False                 False    False   False  False  False     False\n",
       "2751  False                 False    False   False  False  False     False\n",
       "2752  False                 False    False   False  False  False     False\n",
       "2753  False                 False    False   False  False  False     False\n",
       "2754  False                 False    False   False  False  False     False\n",
       "\n",
       "[2755 rows x 7 columns]"
      ]
     },
     "execution_count": 6,
     "metadata": {},
     "output_type": "execute_result"
    }
   ],
   "source": [
    "#missing values\n",
    "df.isnull()"
   ]
  },
  {
   "cell_type": "code",
   "execution_count": 7,
   "id": "b97f14d1",
   "metadata": {},
   "outputs": [
    {
     "data": {
      "text/plain": [
       "Name                    0\n",
       "NetWorth in billions    0\n",
       "Country                 0\n",
       "Source                  0\n",
       "Rank                    0\n",
       "Age                     0\n",
       "Industry                0\n",
       "dtype: int64"
      ]
     },
     "execution_count": 7,
     "metadata": {},
     "output_type": "execute_result"
    }
   ],
   "source": [
    "#missing values\n",
    "df.isnull().sum()"
   ]
  },
  {
   "cell_type": "code",
   "execution_count": 8,
   "id": "1006b913",
   "metadata": {},
   "outputs": [
    {
     "data": {
      "text/html": [
       "<div>\n",
       "<style scoped>\n",
       "    .dataframe tbody tr th:only-of-type {\n",
       "        vertical-align: middle;\n",
       "    }\n",
       "\n",
       "    .dataframe tbody tr th {\n",
       "        vertical-align: top;\n",
       "    }\n",
       "\n",
       "    .dataframe thead th {\n",
       "        text-align: right;\n",
       "    }\n",
       "</style>\n",
       "<table border=\"1\" class=\"dataframe\">\n",
       "  <thead>\n",
       "    <tr style=\"text-align: right;\">\n",
       "      <th></th>\n",
       "      <th>count</th>\n",
       "      <th>mean</th>\n",
       "      <th>std</th>\n",
       "      <th>min</th>\n",
       "      <th>25%</th>\n",
       "      <th>50%</th>\n",
       "      <th>75%</th>\n",
       "      <th>max</th>\n",
       "    </tr>\n",
       "  </thead>\n",
       "  <tbody>\n",
       "    <tr>\n",
       "      <th>NetWorth in billions</th>\n",
       "      <td>2755.0</td>\n",
       "      <td>4.749220</td>\n",
       "      <td>9.615358</td>\n",
       "      <td>1.0</td>\n",
       "      <td>1.5</td>\n",
       "      <td>2.3</td>\n",
       "      <td>4.2</td>\n",
       "      <td>177.0</td>\n",
       "    </tr>\n",
       "    <tr>\n",
       "      <th>Rank</th>\n",
       "      <td>2755.0</td>\n",
       "      <td>1345.663521</td>\n",
       "      <td>772.669811</td>\n",
       "      <td>1.0</td>\n",
       "      <td>680.0</td>\n",
       "      <td>1362.0</td>\n",
       "      <td>2035.0</td>\n",
       "      <td>2674.0</td>\n",
       "    </tr>\n",
       "    <tr>\n",
       "      <th>Age</th>\n",
       "      <td>2755.0</td>\n",
       "      <td>63.014519</td>\n",
       "      <td>13.259017</td>\n",
       "      <td>18.0</td>\n",
       "      <td>54.0</td>\n",
       "      <td>62.0</td>\n",
       "      <td>72.0</td>\n",
       "      <td>97.0</td>\n",
       "    </tr>\n",
       "  </tbody>\n",
       "</table>\n",
       "</div>"
      ],
      "text/plain": [
       "                       count         mean         std   min    25%     50%  \\\n",
       "NetWorth in billions  2755.0     4.749220    9.615358   1.0    1.5     2.3   \n",
       "Rank                  2755.0  1345.663521  772.669811   1.0  680.0  1362.0   \n",
       "Age                   2755.0    63.014519   13.259017  18.0   54.0    62.0   \n",
       "\n",
       "                         75%     max  \n",
       "NetWorth in billions     4.2   177.0  \n",
       "Rank                  2035.0  2674.0  \n",
       "Age                     72.0    97.0  "
      ]
     },
     "execution_count": 8,
     "metadata": {},
     "output_type": "execute_result"
    }
   ],
   "source": [
    "df.describe().transpose()"
   ]
  },
  {
   "cell_type": "code",
   "execution_count": 9,
   "id": "0ae46951",
   "metadata": {},
   "outputs": [
    {
     "data": {
      "text/html": [
       "<div>\n",
       "<style scoped>\n",
       "    .dataframe tbody tr th:only-of-type {\n",
       "        vertical-align: middle;\n",
       "    }\n",
       "\n",
       "    .dataframe tbody tr th {\n",
       "        vertical-align: top;\n",
       "    }\n",
       "\n",
       "    .dataframe thead th {\n",
       "        text-align: right;\n",
       "    }\n",
       "</style>\n",
       "<table border=\"1\" class=\"dataframe\">\n",
       "  <thead>\n",
       "    <tr style=\"text-align: right;\">\n",
       "      <th></th>\n",
       "      <th>Name</th>\n",
       "      <th>NetWorth in billions</th>\n",
       "      <th>Country</th>\n",
       "      <th>Source</th>\n",
       "      <th>Rank</th>\n",
       "      <th>Age</th>\n",
       "      <th>Industry</th>\n",
       "    </tr>\n",
       "  </thead>\n",
       "  <tbody>\n",
       "    <tr>\n",
       "      <th>count</th>\n",
       "      <td>2755</td>\n",
       "      <td>2755.000000</td>\n",
       "      <td>2755</td>\n",
       "      <td>2755</td>\n",
       "      <td>2755.000000</td>\n",
       "      <td>2755.000000</td>\n",
       "      <td>2755</td>\n",
       "    </tr>\n",
       "    <tr>\n",
       "      <th>unique</th>\n",
       "      <td>2752</td>\n",
       "      <td>NaN</td>\n",
       "      <td>70</td>\n",
       "      <td>924</td>\n",
       "      <td>NaN</td>\n",
       "      <td>NaN</td>\n",
       "      <td>18</td>\n",
       "    </tr>\n",
       "    <tr>\n",
       "      <th>top</th>\n",
       "      <td>Robert Miller</td>\n",
       "      <td>NaN</td>\n",
       "      <td>United States</td>\n",
       "      <td>real estate</td>\n",
       "      <td>NaN</td>\n",
       "      <td>NaN</td>\n",
       "      <td>Finance &amp; Investments</td>\n",
       "    </tr>\n",
       "    <tr>\n",
       "      <th>freq</th>\n",
       "      <td>2</td>\n",
       "      <td>NaN</td>\n",
       "      <td>724</td>\n",
       "      <td>171</td>\n",
       "      <td>NaN</td>\n",
       "      <td>NaN</td>\n",
       "      <td>371</td>\n",
       "    </tr>\n",
       "    <tr>\n",
       "      <th>mean</th>\n",
       "      <td>NaN</td>\n",
       "      <td>4.749220</td>\n",
       "      <td>NaN</td>\n",
       "      <td>NaN</td>\n",
       "      <td>1345.663521</td>\n",
       "      <td>63.014519</td>\n",
       "      <td>NaN</td>\n",
       "    </tr>\n",
       "    <tr>\n",
       "      <th>std</th>\n",
       "      <td>NaN</td>\n",
       "      <td>9.615358</td>\n",
       "      <td>NaN</td>\n",
       "      <td>NaN</td>\n",
       "      <td>772.669811</td>\n",
       "      <td>13.259017</td>\n",
       "      <td>NaN</td>\n",
       "    </tr>\n",
       "    <tr>\n",
       "      <th>min</th>\n",
       "      <td>NaN</td>\n",
       "      <td>1.000000</td>\n",
       "      <td>NaN</td>\n",
       "      <td>NaN</td>\n",
       "      <td>1.000000</td>\n",
       "      <td>18.000000</td>\n",
       "      <td>NaN</td>\n",
       "    </tr>\n",
       "    <tr>\n",
       "      <th>25%</th>\n",
       "      <td>NaN</td>\n",
       "      <td>1.500000</td>\n",
       "      <td>NaN</td>\n",
       "      <td>NaN</td>\n",
       "      <td>680.000000</td>\n",
       "      <td>54.000000</td>\n",
       "      <td>NaN</td>\n",
       "    </tr>\n",
       "    <tr>\n",
       "      <th>50%</th>\n",
       "      <td>NaN</td>\n",
       "      <td>2.300000</td>\n",
       "      <td>NaN</td>\n",
       "      <td>NaN</td>\n",
       "      <td>1362.000000</td>\n",
       "      <td>62.000000</td>\n",
       "      <td>NaN</td>\n",
       "    </tr>\n",
       "    <tr>\n",
       "      <th>75%</th>\n",
       "      <td>NaN</td>\n",
       "      <td>4.200000</td>\n",
       "      <td>NaN</td>\n",
       "      <td>NaN</td>\n",
       "      <td>2035.000000</td>\n",
       "      <td>72.000000</td>\n",
       "      <td>NaN</td>\n",
       "    </tr>\n",
       "    <tr>\n",
       "      <th>max</th>\n",
       "      <td>NaN</td>\n",
       "      <td>177.000000</td>\n",
       "      <td>NaN</td>\n",
       "      <td>NaN</td>\n",
       "      <td>2674.000000</td>\n",
       "      <td>97.000000</td>\n",
       "      <td>NaN</td>\n",
       "    </tr>\n",
       "  </tbody>\n",
       "</table>\n",
       "</div>"
      ],
      "text/plain": [
       "                 Name  NetWorth in billions        Country       Source  \\\n",
       "count            2755           2755.000000           2755         2755   \n",
       "unique           2752                   NaN             70          924   \n",
       "top     Robert Miller                   NaN  United States  real estate   \n",
       "freq                2                   NaN            724          171   \n",
       "mean              NaN              4.749220            NaN          NaN   \n",
       "std               NaN              9.615358            NaN          NaN   \n",
       "min               NaN              1.000000            NaN          NaN   \n",
       "25%               NaN              1.500000            NaN          NaN   \n",
       "50%               NaN              2.300000            NaN          NaN   \n",
       "75%               NaN              4.200000            NaN          NaN   \n",
       "max               NaN            177.000000            NaN          NaN   \n",
       "\n",
       "               Rank          Age               Industry  \n",
       "count   2755.000000  2755.000000                   2755  \n",
       "unique          NaN          NaN                     18  \n",
       "top             NaN          NaN  Finance & Investments  \n",
       "freq            NaN          NaN                    371  \n",
       "mean    1345.663521    63.014519                    NaN  \n",
       "std      772.669811    13.259017                    NaN  \n",
       "min        1.000000    18.000000                    NaN  \n",
       "25%      680.000000    54.000000                    NaN  \n",
       "50%     1362.000000    62.000000                    NaN  \n",
       "75%     2035.000000    72.000000                    NaN  \n",
       "max     2674.000000    97.000000                    NaN  "
      ]
     },
     "execution_count": 9,
     "metadata": {},
     "output_type": "execute_result"
    }
   ],
   "source": [
    "df.describe(include='all')"
   ]
  },
  {
   "cell_type": "code",
   "execution_count": 10,
   "id": "3f40aaf8",
   "metadata": {},
   "outputs": [
    {
     "data": {
      "text/html": [
       "<div>\n",
       "<style scoped>\n",
       "    .dataframe tbody tr th:only-of-type {\n",
       "        vertical-align: middle;\n",
       "    }\n",
       "\n",
       "    .dataframe tbody tr th {\n",
       "        vertical-align: top;\n",
       "    }\n",
       "\n",
       "    .dataframe thead th {\n",
       "        text-align: right;\n",
       "    }\n",
       "</style>\n",
       "<table border=\"1\" class=\"dataframe\">\n",
       "  <thead>\n",
       "    <tr style=\"text-align: right;\">\n",
       "      <th></th>\n",
       "      <th>NetWorth in billions</th>\n",
       "      <th>Rank</th>\n",
       "      <th>Age</th>\n",
       "    </tr>\n",
       "  </thead>\n",
       "  <tbody>\n",
       "    <tr>\n",
       "      <th>NetWorth in billions</th>\n",
       "      <td>1.000000</td>\n",
       "      <td>-0.475346</td>\n",
       "      <td>0.035225</td>\n",
       "    </tr>\n",
       "    <tr>\n",
       "      <th>Rank</th>\n",
       "      <td>-0.475346</td>\n",
       "      <td>1.000000</td>\n",
       "      <td>-0.104220</td>\n",
       "    </tr>\n",
       "    <tr>\n",
       "      <th>Age</th>\n",
       "      <td>0.035225</td>\n",
       "      <td>-0.104220</td>\n",
       "      <td>1.000000</td>\n",
       "    </tr>\n",
       "  </tbody>\n",
       "</table>\n",
       "</div>"
      ],
      "text/plain": [
       "                      NetWorth in billions      Rank       Age\n",
       "NetWorth in billions              1.000000 -0.475346  0.035225\n",
       "Rank                             -0.475346  1.000000 -0.104220\n",
       "Age                               0.035225 -0.104220  1.000000"
      ]
     },
     "execution_count": 10,
     "metadata": {},
     "output_type": "execute_result"
    }
   ],
   "source": [
    "df.corr()"
   ]
  },
  {
   "cell_type": "code",
   "execution_count": 11,
   "id": "f785c58c",
   "metadata": {},
   "outputs": [
    {
     "data": {
      "image/png": "[encoded data removed]",
      "text/plain": [
       "<Figure size 432x288 with 1 Axes>"
      ]
     },
     "metadata": {
      "needs_background": "light"
     },
     "output_type": "display_data"
    }
   ],
   "source": [
    "# BoxPlot- for identifying outliers and only for numbers and get median,min,max,showmeans-mean\n",
    "\n",
    "#plt.figure(figsize=(10,5))\n",
    "sns.boxplot(x=\"Age\",data=df,showmeans=True)\n",
    "plt.show()"
   ]
  },
  {
   "cell_type": "code",
   "execution_count": 12,
   "id": "0f9d80e9",
   "metadata": {},
   "outputs": [
    {
     "data": {
      "image/png": "[encoded data removed]",
      "text/plain": [
       "<Figure size 720x360 with 1 Axes>"
      ]
     },
     "metadata": {
      "needs_background": "light"
     },
     "output_type": "display_data"
    }
   ],
   "source": [
    "# Boxplot only for numbers\n",
    "plt.figure(figsize=(10,5))\n",
    "sns.boxplot(x=\"NetWorth in billions\",data=df)\n",
    "plt.show()"
   ]
  },
  {
   "cell_type": "code",
   "execution_count": 13,
   "id": "cfd81c14",
   "metadata": {},
   "outputs": [
    {
     "data": {
      "image/png": "[encoded data removed]",
      "text/plain": [
       "<Figure size 360x360 with 1 Axes>"
      ]
     },
     "metadata": {
      "needs_background": "light"
     },
     "output_type": "display_data"
    }
   ],
   "source": [
    "#distribution plot,kde-line\n",
    "sns.displot(x=\"Age\",data=df,color='Blue',bins=6,kde=True)\n",
    "plt.show()"
   ]
  },
  {
   "cell_type": "code",
   "execution_count": 14,
   "id": "5b34ffad",
   "metadata": {},
   "outputs": [
    {
     "data": {
      "image/png": "[encoded data removed]",
      "text/plain": [
       "<Figure size 360x360 with 1 Axes>"
      ]
     },
     "metadata": {
      "needs_background": "light"
     },
     "output_type": "display_data"
    }
   ],
   "source": [
    "#distribution plot\n",
    "sns.displot(x=\"NetWorth in billions\",data=df,color='Blue',bins=6)\n",
    "plt.show()"
   ]
  },
  {
   "cell_type": "code",
   "execution_count": 15,
   "id": "9fff0377",
   "metadata": {},
   "outputs": [
    {
     "data": {
      "text/plain": [
       "Finance & Investments         371\n",
       "Technology                    365\n",
       "Manufacturing                 331\n",
       "Fashion & Retail              273\n",
       "Healthcare                    221\n",
       "Food & Beverage               219\n",
       "Real Estate                   215\n",
       "Diversified                   188\n",
       "Energy                        100\n",
       "Media & Entertainment          95\n",
       "Service                        75\n",
       "Metals & Mining                74\n",
       "Automotive                     68\n",
       "Construction & Engineering     44\n",
       "Logistics                      35\n",
       "Telecom                        32\n",
       "Gambling & Casinos             25\n",
       "Sports                         24\n",
       "Name: Industry, dtype: int64"
      ]
     },
     "execution_count": 15,
     "metadata": {},
     "output_type": "execute_result"
    }
   ],
   "source": [
    "df.Industry.value_counts()"
   ]
  },
  {
   "cell_type": "code",
   "execution_count": 16,
   "id": "b39fd3a7",
   "metadata": {},
   "outputs": [
    {
     "data": {
      "text/html": [
       "<div>\n",
       "<style scoped>\n",
       "    .dataframe tbody tr th:only-of-type {\n",
       "        vertical-align: middle;\n",
       "    }\n",
       "\n",
       "    .dataframe tbody tr th {\n",
       "        vertical-align: top;\n",
       "    }\n",
       "\n",
       "    .dataframe thead th {\n",
       "        text-align: right;\n",
       "    }\n",
       "</style>\n",
       "<table border=\"1\" class=\"dataframe\">\n",
       "  <thead>\n",
       "    <tr style=\"text-align: right;\">\n",
       "      <th></th>\n",
       "      <th>Name</th>\n",
       "      <th>NetWorth in billions</th>\n",
       "      <th>Country</th>\n",
       "      <th>Source</th>\n",
       "      <th>Rank</th>\n",
       "      <th>Age</th>\n",
       "      <th>Industry</th>\n",
       "    </tr>\n",
       "  </thead>\n",
       "  <tbody>\n",
       "    <tr>\n",
       "      <th>170</th>\n",
       "      <td>Robert Kuok</td>\n",
       "      <td>12.6</td>\n",
       "      <td>Malaysia</td>\n",
       "      <td>palm oil, shipping, property</td>\n",
       "      <td>171</td>\n",
       "      <td>97</td>\n",
       "      <td>Diversified</td>\n",
       "    </tr>\n",
       "    <tr>\n",
       "      <th>1626</th>\n",
       "      <td>Charles Munger</td>\n",
       "      <td>2.0</td>\n",
       "      <td>United States</td>\n",
       "      <td>Berkshire Hathaway</td>\n",
       "      <td>1580</td>\n",
       "      <td>97</td>\n",
       "      <td>Finance &amp; Investments</td>\n",
       "    </tr>\n",
       "    <tr>\n",
       "      <th>1559</th>\n",
       "      <td>David Murdock</td>\n",
       "      <td>2.1</td>\n",
       "      <td>United States</td>\n",
       "      <td>Dole, real estate</td>\n",
       "      <td>1517</td>\n",
       "      <td>97</td>\n",
       "      <td>Food &amp; Beverage</td>\n",
       "    </tr>\n",
       "    <tr>\n",
       "      <th>1579</th>\n",
       "      <td>S. Daniel Abraham</td>\n",
       "      <td>2.0</td>\n",
       "      <td>United States</td>\n",
       "      <td>Slim-Fast</td>\n",
       "      <td>1580</td>\n",
       "      <td>96</td>\n",
       "      <td>Food &amp; Beverage</td>\n",
       "    </tr>\n",
       "    <tr>\n",
       "      <th>2273</th>\n",
       "      <td>Ana Maria Brescia Cafferata</td>\n",
       "      <td>1.3</td>\n",
       "      <td>Peru</td>\n",
       "      <td>mining, banking</td>\n",
       "      <td>2263</td>\n",
       "      <td>96</td>\n",
       "      <td>Diversified</td>\n",
       "    </tr>\n",
       "  </tbody>\n",
       "</table>\n",
       "</div>"
      ],
      "text/plain": [
       "                             Name  NetWorth in billions        Country  \\\n",
       "170                   Robert Kuok                  12.6       Malaysia   \n",
       "1626               Charles Munger                   2.0  United States   \n",
       "1559                David Murdock                   2.1  United States   \n",
       "1579            S. Daniel Abraham                   2.0  United States   \n",
       "2273  Ana Maria Brescia Cafferata                   1.3           Peru   \n",
       "\n",
       "                            Source  Rank  Age               Industry  \n",
       "170   palm oil, shipping, property   171   97            Diversified  \n",
       "1626            Berkshire Hathaway  1580   97  Finance & Investments  \n",
       "1559             Dole, real estate  1517   97        Food & Beverage  \n",
       "1579                     Slim-Fast  1580   96        Food & Beverage  \n",
       "2273               mining, banking  2263   96            Diversified  "
      ]
     },
     "execution_count": 16,
     "metadata": {},
     "output_type": "execute_result"
    }
   ],
   "source": [
    "df.sort_values(by='Age',ascending=False).head()"
   ]
  },
  {
   "cell_type": "code",
   "execution_count": 17,
   "id": "8f7431fc",
   "metadata": {},
   "outputs": [
    {
     "data": {
      "text/plain": [
       "170          Malaysia\n",
       "1626    United States\n",
       "1559    United States\n",
       "1579    United States\n",
       "2273             Peru\n",
       "Name: Country, dtype: object"
      ]
     },
     "execution_count": 17,
     "metadata": {},
     "output_type": "execute_result"
    }
   ],
   "source": [
    "df.sort_values(by='Age',ascending=False)['Country'].head()"
   ]
  },
  {
   "cell_type": "code",
   "execution_count": 30,
   "id": "f5610625",
   "metadata": {},
   "outputs": [
    {
     "data": {
      "text/plain": [
       "Index(['Finance & Investments', 'Technology', 'Manufacturing',\n",
       "       'Fashion & Retail', 'Healthcare', 'Food & Beverage', 'Real Estate',\n",
       "       'Diversified', 'Energy', 'Media & Entertainment', 'Service',\n",
       "       'Metals & Mining', 'Automotive', 'Construction & Engineering',\n",
       "       'Logistics', 'Telecom', 'Gambling & Casinos', 'Sports'],\n",
       "      dtype='object')"
      ]
     },
     "execution_count": 30,
     "metadata": {},
     "output_type": "execute_result"
    }
   ],
   "source": [
    "l=df['Industry'].value_counts().index\n",
    "l"
   ]
  },
  {
   "cell_type": "code",
   "execution_count": 19,
   "id": "fbd92cfd",
   "metadata": {},
   "outputs": [
    {
     "name": "stderr",
     "output_type": "stream",
     "text": [
      "C:\\Users\\nandigumteju\\anaconda3\\lib\\site-packages\\seaborn\\_decorators.py:36: FutureWarning: Pass the following variable as a keyword arg: x. From version 0.12, the only valid positional argument will be `data`, and passing other arguments without an explicit keyword will result in an error or misinterpretation.\n",
      "  warnings.warn(\n"
     ]
    },
    {
     "data": {
      "image/png": "[encoded data removed]",
      "text/plain": [
       "<Figure size 2160x1440 with 1 Axes>"
      ]
     },
     "metadata": {
      "needs_background": "light"
     },
     "output_type": "display_data"
    }
   ],
   "source": [
    "plt.figure(figsize=(30,20))\n",
    "sns.countplot(df['Industry'],order=l)\n",
    "plt.show()"
   ]
  },
  {
   "cell_type": "code",
   "execution_count": 20,
   "id": "5f7fd8ee",
   "metadata": {},
   "outputs": [
    {
     "data": {
      "text/html": [
       "<div>\n",
       "<style scoped>\n",
       "    .dataframe tbody tr th:only-of-type {\n",
       "        vertical-align: middle;\n",
       "    }\n",
       "\n",
       "    .dataframe tbody tr th {\n",
       "        vertical-align: top;\n",
       "    }\n",
       "\n",
       "    .dataframe thead th {\n",
       "        text-align: right;\n",
       "    }\n",
       "</style>\n",
       "<table border=\"1\" class=\"dataframe\">\n",
       "  <thead>\n",
       "    <tr style=\"text-align: right;\">\n",
       "      <th></th>\n",
       "      <th>Name</th>\n",
       "      <th>NetWorth in billions</th>\n",
       "      <th>Country</th>\n",
       "      <th>Source</th>\n",
       "      <th>Rank</th>\n",
       "      <th>Age</th>\n",
       "      <th>Industry</th>\n",
       "    </tr>\n",
       "  </thead>\n",
       "  <tbody>\n",
       "    <tr>\n",
       "      <th>0</th>\n",
       "      <td>Jeff Bezos</td>\n",
       "      <td>177.0</td>\n",
       "      <td>United States</td>\n",
       "      <td>Amazon</td>\n",
       "      <td>1</td>\n",
       "      <td>57</td>\n",
       "      <td>Technology</td>\n",
       "    </tr>\n",
       "  </tbody>\n",
       "</table>\n",
       "</div>"
      ],
      "text/plain": [
       "         Name  NetWorth in billions        Country  Source  Rank  Age  \\\n",
       "0  Jeff Bezos                 177.0  United States  Amazon     1   57   \n",
       "\n",
       "     Industry  \n",
       "0  Technology  "
      ]
     },
     "execution_count": 20,
     "metadata": {},
     "output_type": "execute_result"
    }
   ],
   "source": [
    "df[df[\"Name\"]==\"Jeff Bezos\"]"
   ]
  },
  {
   "cell_type": "code",
   "execution_count": 21,
   "id": "2050339f",
   "metadata": {},
   "outputs": [
    {
     "data": {
      "text/html": [
       "<div>\n",
       "<style scoped>\n",
       "    .dataframe tbody tr th:only-of-type {\n",
       "        vertical-align: middle;\n",
       "    }\n",
       "\n",
       "    .dataframe tbody tr th {\n",
       "        vertical-align: top;\n",
       "    }\n",
       "\n",
       "    .dataframe thead th {\n",
       "        text-align: right;\n",
       "    }\n",
       "</style>\n",
       "<table border=\"1\" class=\"dataframe\">\n",
       "  <thead>\n",
       "    <tr style=\"text-align: right;\">\n",
       "      <th></th>\n",
       "      <th>Name</th>\n",
       "      <th>NetWorth in billions</th>\n",
       "      <th>Country</th>\n",
       "      <th>Source</th>\n",
       "      <th>Rank</th>\n",
       "      <th>Age</th>\n",
       "      <th>Industry</th>\n",
       "    </tr>\n",
       "  </thead>\n",
       "  <tbody>\n",
       "    <tr>\n",
       "      <th>9</th>\n",
       "      <td>Mukesh Ambani</td>\n",
       "      <td>84.5</td>\n",
       "      <td>India</td>\n",
       "      <td>diversified</td>\n",
       "      <td>10</td>\n",
       "      <td>63</td>\n",
       "      <td>Diversified</td>\n",
       "    </tr>\n",
       "    <tr>\n",
       "      <th>23</th>\n",
       "      <td>Gautam Adani &amp; family</td>\n",
       "      <td>50.5</td>\n",
       "      <td>India</td>\n",
       "      <td>infrastructure, commodities</td>\n",
       "      <td>24</td>\n",
       "      <td>58</td>\n",
       "      <td>Diversified</td>\n",
       "    </tr>\n",
       "    <tr>\n",
       "      <th>71</th>\n",
       "      <td>Shiv Nadar</td>\n",
       "      <td>23.5</td>\n",
       "      <td>India</td>\n",
       "      <td>software services</td>\n",
       "      <td>71</td>\n",
       "      <td>75</td>\n",
       "      <td>Technology</td>\n",
       "    </tr>\n",
       "    <tr>\n",
       "      <th>116</th>\n",
       "      <td>Radhakishan Damani</td>\n",
       "      <td>16.5</td>\n",
       "      <td>India</td>\n",
       "      <td>retail, investments</td>\n",
       "      <td>117</td>\n",
       "      <td>66</td>\n",
       "      <td>Fashion &amp; Retail</td>\n",
       "    </tr>\n",
       "    <tr>\n",
       "      <th>122</th>\n",
       "      <td>Uday Kotak</td>\n",
       "      <td>15.9</td>\n",
       "      <td>India</td>\n",
       "      <td>banking</td>\n",
       "      <td>121</td>\n",
       "      <td>62</td>\n",
       "      <td>Finance &amp; Investments</td>\n",
       "    </tr>\n",
       "    <tr>\n",
       "      <th>...</th>\n",
       "      <td>...</td>\n",
       "      <td>...</td>\n",
       "      <td>...</td>\n",
       "      <td>...</td>\n",
       "      <td>...</td>\n",
       "      <td>...</td>\n",
       "      <td>...</td>\n",
       "    </tr>\n",
       "    <tr>\n",
       "      <th>2683</th>\n",
       "      <td>Ramesh Kumar Dua</td>\n",
       "      <td>1.0</td>\n",
       "      <td>India</td>\n",
       "      <td>footwear</td>\n",
       "      <td>2674</td>\n",
       "      <td>67</td>\n",
       "      <td>Fashion &amp; Retail</td>\n",
       "    </tr>\n",
       "    <tr>\n",
       "      <th>2698</th>\n",
       "      <td>Ashok Kajaria</td>\n",
       "      <td>1.0</td>\n",
       "      <td>India</td>\n",
       "      <td>tiles</td>\n",
       "      <td>2674</td>\n",
       "      <td>73</td>\n",
       "      <td>Manufacturing</td>\n",
       "    </tr>\n",
       "    <tr>\n",
       "      <th>2699</th>\n",
       "      <td>T.S. Kalyanaraman</td>\n",
       "      <td>1.0</td>\n",
       "      <td>India</td>\n",
       "      <td>jewelry</td>\n",
       "      <td>2674</td>\n",
       "      <td>73</td>\n",
       "      <td>Fashion &amp; Retail</td>\n",
       "    </tr>\n",
       "    <tr>\n",
       "      <th>2712</th>\n",
       "      <td>Rafique Malik</td>\n",
       "      <td>1.0</td>\n",
       "      <td>India</td>\n",
       "      <td>footwear</td>\n",
       "      <td>2674</td>\n",
       "      <td>70</td>\n",
       "      <td>Fashion &amp; Retail</td>\n",
       "    </tr>\n",
       "    <tr>\n",
       "      <th>2715</th>\n",
       "      <td>Mofatraj Munot</td>\n",
       "      <td>1.0</td>\n",
       "      <td>India</td>\n",
       "      <td>real estate</td>\n",
       "      <td>2674</td>\n",
       "      <td>76</td>\n",
       "      <td>Real Estate</td>\n",
       "    </tr>\n",
       "  </tbody>\n",
       "</table>\n",
       "<p>140 rows × 7 columns</p>\n",
       "</div>"
      ],
      "text/plain": [
       "                       Name  NetWorth in billions Country  \\\n",
       "9             Mukesh Ambani                  84.5   India   \n",
       "23    Gautam Adani & family                  50.5   India   \n",
       "71               Shiv Nadar                  23.5   India   \n",
       "116      Radhakishan Damani                  16.5   India   \n",
       "122              Uday Kotak                  15.9   India   \n",
       "...                     ...                   ...     ...   \n",
       "2683       Ramesh Kumar Dua                   1.0   India   \n",
       "2698          Ashok Kajaria                   1.0   India   \n",
       "2699      T.S. Kalyanaraman                   1.0   India   \n",
       "2712          Rafique Malik                   1.0   India   \n",
       "2715         Mofatraj Munot                   1.0   India   \n",
       "\n",
       "                           Source  Rank  Age               Industry  \n",
       "9                     diversified    10   63            Diversified  \n",
       "23    infrastructure, commodities    24   58            Diversified  \n",
       "71              software services    71   75             Technology  \n",
       "116           retail, investments   117   66       Fashion & Retail  \n",
       "122                       banking   121   62  Finance & Investments  \n",
       "...                           ...   ...  ...                    ...  \n",
       "2683                     footwear  2674   67       Fashion & Retail  \n",
       "2698                        tiles  2674   73          Manufacturing  \n",
       "2699                      jewelry  2674   73       Fashion & Retail  \n",
       "2712                     footwear  2674   70       Fashion & Retail  \n",
       "2715                  real estate  2674   76            Real Estate  \n",
       "\n",
       "[140 rows x 7 columns]"
      ]
     },
     "execution_count": 21,
     "metadata": {},
     "output_type": "execute_result"
    }
   ],
   "source": [
    "#indian billioners under age of 50\n",
    "indian_bill=df[df[\"Country\"]==\"India\"]\n",
    "indian_bill"
   ]
  },
  {
   "cell_type": "code",
   "execution_count": 22,
   "id": "20013d24",
   "metadata": {},
   "outputs": [
    {
     "data": {
      "text/plain": [
       "array(['Mukesh Ambani', 'Gautam Adani & family', 'Radhakishan Damani',\n",
       "       'Uday Kotak', 'Kumar Birla', 'Dilip Shanghvi',\n",
       "       'Sunil Mittal & family', 'Kuldip Singh & Gurbachan Singh Dhingra',\n",
       "       'Bajaj brothers', 'Gopikishan Damani', 'Kapil & Rahul Bhatia',\n",
       "       'Pankaj Patel', 'M.A. Yusuff Ali', 'Rakesh Jhunjhunwala',\n",
       "       'Pawan Munjal & family', 'Vinod & Anil Rai Gupta',\n",
       "       'Kiran Mazumdar-Shaw', 'Ajay Piramal', 'Anil Agarwal & family',\n",
       "       'Shyam & Hari Bhartia', 'Leena Tewari', 'Senapathy Gopalakrishnan',\n",
       "       'Ravi Jaipuria', 'P.V. Ramprasad Reddy', 'Sanjeev Bikhchandani',\n",
       "       'Samir Mehta', 'Sudhir Mehta', 'Micky Jagtiani',\n",
       "       'Rajendra Agarwal', 'Banwari Lal Bawri', 'Aloke Lohia',\n",
       "       'Kalanithi Maran', 'Byju Raveendran and Divya Gokulnath',\n",
       "       'Harsh Mariwala', 'Nandan Nilekani', 'Ravi Pillai',\n",
       "       'Rajan Raheja & family', 'Rishad Naoroji', 'Anand Burman',\n",
       "       'Sandeep Engineer', 'Harsh Goenka', 'Vijay Shekhar Sharma',\n",
       "       'Jitendra Virwani', 'Acharya Balkrishna',\n",
       "       'Jai Hari & Yadu Hari Dalmia & family', 'K. Dinesh',\n",
       "       'Arvind Poddar', 'Shashi & Ravi Ruia', 'Vikas Oberoi',\n",
       "       'Arvind Tiku', 'Sanjiv Goenka', 'Anand Mahindra', 'S.D. Shibulal',\n",
       "       'Anurang Jain', 'Amit Burman', 'Ajay Parekh', 'P.P. Reddy',\n",
       "       'Bhadresh Shah', 'P.V.Krishna Reddy', 'Satish Reddy',\n",
       "       'Vinod Saraf', 'Radha Vembu', 'Balkrishan Goenka', 'Nirmal Minda',\n",
       "       'Sunny Varkey', 'Sanjay Agarwal', 'Achal Bakeri',\n",
       "       'Mangal Prabhat Lodha', 'Deepak Mehta', 'George Alexander Muthoot',\n",
       "       'George Jacob Muthoot', 'Ranjan Pai', 'Sachin Bansal',\n",
       "       'G.V. Prasad', 'Kavita Singhania', 'Binny Bansal', 'Rahul Gautam',\n",
       "       'M.Satyanarayana Reddy', 'Sunil Vachani', 'Sekar Vembu',\n",
       "       'Ramesh Kumar Dua'], dtype=object)"
      ]
     },
     "execution_count": 22,
     "metadata": {},
     "output_type": "execute_result"
    }
   ],
   "source": [
    "indian_bill[indian_bill['Age']<70][\"Name\"].values"
   ]
  },
  {
   "cell_type": "code",
   "execution_count": 23,
   "id": "ae5a217d",
   "metadata": {},
   "outputs": [
    {
     "data": {
      "text/plain": [
       "70"
      ]
     },
     "execution_count": 23,
     "metadata": {},
     "output_type": "execute_result"
    }
   ],
   "source": [
    "len(df.Country.unique())"
   ]
  },
  {
   "cell_type": "code",
   "execution_count": 24,
   "id": "b410d64f",
   "metadata": {},
   "outputs": [
    {
     "data": {
      "text/plain": [
       "Index(['Finance & Investments', 'Technology', 'Manufacturing',\n",
       "       'Fashion & Retail', 'Healthcare', 'Food & Beverage', 'Real Estate',\n",
       "       'Diversified', 'Energy', 'Media & Entertainment', 'Service',\n",
       "       'Metals & Mining', 'Automotive', 'Construction & Engineering',\n",
       "       'Logistics', 'Telecom', 'Gambling & Casinos', 'Sports'],\n",
       "      dtype='object')"
      ]
     },
     "execution_count": 24,
     "metadata": {},
     "output_type": "execute_result"
    }
   ],
   "source": [
    "df[\"Industry\"].value_counts().index"
   ]
  },
  {
   "cell_type": "code",
   "execution_count": 25,
   "id": "440f3c7a",
   "metadata": {},
   "outputs": [
    {
     "data": {
      "image/png": "[encoded data removed]",
      "text/plain": [
       "<Figure size 720x1080 with 1 Axes>"
      ]
     },
     "metadata": {},
     "output_type": "display_data"
    }
   ],
   "source": [
    "plt.figure(figsize=(10,15))\n",
    "plt.pie(df[\"Industry\"].value_counts(),labels=df[\"Industry\"].value_counts().index,autopct='%.3f%%')\n",
    "plt.show()"
   ]
  },
  {
   "cell_type": "code",
   "execution_count": 26,
   "id": "ebb1cfe8",
   "metadata": {},
   "outputs": [
    {
     "ename": "AttributeError",
     "evalue": "module 'pandas' has no attribute 'read'",
     "output_type": "error",
     "traceback": [
      "\u001b[1;31m---------------------------------------------------------------------------\u001b[0m",
      "\u001b[1;31mAttributeError\u001b[0m                            Traceback (most recent call last)",
      "\u001b[1;32mC:\\Users\\NANDIG~1\\AppData\\Local\\Temp/ipykernel_4648/1714213783.py\u001b[0m in \u001b[0;36m<module>\u001b[1;34m\u001b[0m\n\u001b[1;32m----> 1\u001b[1;33m \u001b[0mpd\u001b[0m\u001b[1;33m.\u001b[0m\u001b[0mread\u001b[0m\u001b[1;33m\u001b[0m\u001b[1;33m\u001b[0m\u001b[0m\n\u001b[0m",
      "\u001b[1;32m~\\anaconda3\\lib\\site-packages\\pandas\\__init__.py\u001b[0m in \u001b[0;36m__getattr__\u001b[1;34m(name)\u001b[0m\n\u001b[0;32m    242\u001b[0m         \u001b[1;32mreturn\u001b[0m \u001b[0m_SparseArray\u001b[0m\u001b[1;33m\u001b[0m\u001b[1;33m\u001b[0m\u001b[0m\n\u001b[0;32m    243\u001b[0m \u001b[1;33m\u001b[0m\u001b[0m\n\u001b[1;32m--> 244\u001b[1;33m     \u001b[1;32mraise\u001b[0m \u001b[0mAttributeError\u001b[0m\u001b[1;33m(\u001b[0m\u001b[1;34mf\"module 'pandas' has no attribute '{name}'\"\u001b[0m\u001b[1;33m)\u001b[0m\u001b[1;33m\u001b[0m\u001b[1;33m\u001b[0m\u001b[0m\n\u001b[0m\u001b[0;32m    245\u001b[0m \u001b[1;33m\u001b[0m\u001b[0m\n\u001b[0;32m    246\u001b[0m \u001b[1;33m\u001b[0m\u001b[0m\n",
      "\u001b[1;31mAttributeError\u001b[0m: module 'pandas' has no attribute 'read'"
     ]
    }
   ],
   "source": []
  }
 ],
 "metadata": {
  "kernelspec": {
   "display_name": "Python 3 (ipykernel)",
   "language": "python",
   "name": "python3"
  },
  "language_info": {
   "codemirror_mode": {
    "name": "ipython",
    "version": 3
   },
   "file_extension": ".py",
   "mimetype": "text/x-python",
   "name": "python",
   "nbconvert_exporter": "python",
   "pygments_lexer": "ipython3",
   "version": "3.9.7"
  }
 },
 "nbformat": 4,
 "nbformat_minor": 5
}
