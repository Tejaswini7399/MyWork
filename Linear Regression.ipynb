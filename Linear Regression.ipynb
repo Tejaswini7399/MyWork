{
 "cells": [
  {
   "cell_type": "markdown",
   "metadata": {},
   "source": [
    "# Performing Linear Regression on Advertising dataset"
   ]
  },
  {
   "cell_type": "markdown",
   "metadata": {},
   "source": [
    "## Why do you use Regression Analysis?\n",
    "\n",
    "Regression analysis estimates the relationship between two or more variables. \n"
   ]
  },
  {
   "cell_type": "code",
   "execution_count": 4,
   "metadata": {},
   "outputs": [],
   "source": [
    "# import libraries\n",
    "import pandas as pd\n",
    "import matplotlib.pyplot as plt\n",
    "from sklearn.metrics import r2_score, mean_squared_error\n",
    "from math import sqrt\n",
    "from sklearn.model_selection import GridSearchCV, train_test_split\n",
    "from sklearn.metrics import r2_score\n",
    "\n",
    "# this allows plots to appear directly in the notebook\n"
   ]
  },
  {
   "cell_type": "code",
   "execution_count": null,
   "metadata": {},
   "outputs": [],
   "source": []
  },
  {
   "cell_type": "markdown",
   "metadata": {},
   "source": [
    
   ]
  },
  {
   "cell_type": "code",
   "execution_count": 5,
   "metadata": {},
   "outputs": [],
   "source": [
    "# read data into a DataFrame\n",
    "data = pd.read_csv('Advertising.csv', index_col=0)\n",
    "data.head()\n",
    "data.columns = ['TV','Radio','Newspaper','Sales']"
   ]
  },
  {
   "cell_type": "markdown",
   "metadata": {},
   "source": [
    " **Indepenent variables**\n",
    "- TV: Advertising dollars spent on TV for a single product in a given market (in thousands of dollars)\n",
    "- Radio: Advertising dollars spent on Radio\n",
    "- Newspaper: Advertising dollars spent on Newspaper\n",
    "\n",
    "**Target Variable **\n",
    "- Sales: sales of a single product in a given market (in thousands of widgets)"
   ]
  },
  {
   "cell_type": "code",
   "execution_count": 6,
   "metadata": {},
   "outputs": [
    {
     "data": {
      "text/html": [
       "<div>\n",
       "<style scoped>\n",
       "    .dataframe tbody tr th:only-of-type {\n",
       "        vertical-align: middle;\n",
       "    }\n",
       "\n",
       "    .dataframe tbody tr th {\n",
       "        vertical-align: top;\n",
       "    }\n",
       "\n",
       "    .dataframe thead th {\n",
       "        text-align: right;\n",
       "    }\n",
       "</style>\n",
       "<table border=\"1\" class=\"dataframe\">\n",
       "  <thead>\n",
       "    <tr style=\"text-align: right;\">\n",
       "      <th></th>\n",
       "      <th>TV</th>\n",
       "      <th>Radio</th>\n",
       "      <th>Newspaper</th>\n",
       "      <th>Sales</th>\n",
       "    </tr>\n",
       "  </thead>\n",
       "  <tbody>\n",
       "    <tr>\n",
       "      <th>1</th>\n",
       "      <td>230.1</td>\n",
       "      <td>37.8</td>\n",
       "      <td>69.2</td>\n",
       "      <td>22.1</td>\n",
       "    </tr>\n",
       "    <tr>\n",
       "      <th>2</th>\n",
       "      <td>44.5</td>\n",
       "      <td>39.3</td>\n",
       "      <td>45.1</td>\n",
       "      <td>10.4</td>\n",
       "    </tr>\n",
       "    <tr>\n",
       "      <th>3</th>\n",
       "      <td>17.2</td>\n",
       "      <td>45.9</td>\n",
       "      <td>69.3</td>\n",
       "      <td>9.3</td>\n",
       "    </tr>\n",
       "    <tr>\n",
       "      <th>4</th>\n",
       "      <td>151.5</td>\n",
       "      <td>41.3</td>\n",
       "      <td>58.5</td>\n",
       "      <td>18.5</td>\n",
       "    </tr>\n",
       "    <tr>\n",
       "      <th>5</th>\n",
       "      <td>180.8</td>\n",
       "      <td>10.8</td>\n",
       "      <td>58.4</td>\n",
       "      <td>12.9</td>\n",
       "    </tr>\n",
       "  </tbody>\n",
       "</table>\n",
       "</div>"
      ],
      "text/plain": [
       "      TV  Radio  Newspaper  Sales\n",
       "1  230.1   37.8       69.2   22.1\n",
       "2   44.5   39.3       45.1   10.4\n",
       "3   17.2   45.9       69.3    9.3\n",
       "4  151.5   41.3       58.5   18.5\n",
       "5  180.8   10.8       58.4   12.9"
      ]
     },
     "execution_count": 6,
     "metadata": {},
     "output_type": "execute_result"
    }
   ],
   "source": [
    "data.head()"
   ]
  },
  {
   "cell_type": "code",
   "execution_count": 4,
   "metadata": {},
   "outputs": [
    {
     "data": {
      "text/plain": [
       "(200, 4)"
      ]
     },
     "execution_count": 4,
     "metadata": {},
     "output_type": "execute_result"
    }
   ],
   "source": [
    "data.shape"
   ]
  },
  {
   "cell_type": "code",
   "execution_count": 5,
   "metadata": {},
   "outputs": [
    {
     "name": "stdout",
     "output_type": "stream",
     "text": [
      "<class 'pandas.core.frame.DataFrame'>\n",
      "Int64Index: 200 entries, 1 to 200\n",
      "Data columns (total 4 columns):\n",
      " #   Column     Non-Null Count  Dtype  \n",
      "---  ------     --------------  -----  \n",
      " 0   TV         200 non-null    float64\n",
      " 1   Radio      200 non-null    float64\n",
      " 2   Newspaper  200 non-null    float64\n",
      " 3   Sales      200 non-null    float64\n",
      "dtypes: float64(4)\n",
      "memory usage: 7.8 KB\n"
     ]
    }
   ],
   "source": [
    "data.info()"
   ]
  },
  {
   "cell_type": "code",
   "execution_count": 6,
   "metadata": {
    "scrolled": true
   },
   "outputs": [
    {
     "data": {
      "text/html": [
       "<div>\n",
       "<style scoped>\n",
       "    .dataframe tbody tr th:only-of-type {\n",
       "        vertical-align: middle;\n",
       "    }\n",
       "\n",
       "    .dataframe tbody tr th {\n",
       "        vertical-align: top;\n",
       "    }\n",
       "\n",
       "    .dataframe thead th {\n",
       "        text-align: right;\n",
       "    }\n",
       "</style>\n",
       "<table border=\"1\" class=\"dataframe\">\n",
       "  <thead>\n",
       "    <tr style=\"text-align: right;\">\n",
       "      <th></th>\n",
       "      <th>count</th>\n",
       "      <th>mean</th>\n",
       "      <th>std</th>\n",
       "      <th>min</th>\n",
       "      <th>25%</th>\n",
       "      <th>50%</th>\n",
       "      <th>75%</th>\n",
       "      <th>max</th>\n",
       "    </tr>\n",
       "  </thead>\n",
       "  <tbody>\n",
       "    <tr>\n",
       "      <th>TV</th>\n",
       "      <td>200.0</td>\n",
       "      <td>147.0425</td>\n",
       "      <td>85.854236</td>\n",
       "      <td>0.7</td>\n",
       "      <td>74.375</td>\n",
       "      <td>149.75</td>\n",
       "      <td>218.825</td>\n",
       "      <td>296.4</td>\n",
       "    </tr>\n",
       "    <tr>\n",
       "      <th>Radio</th>\n",
       "      <td>200.0</td>\n",
       "      <td>23.2640</td>\n",
       "      <td>14.846809</td>\n",
       "      <td>0.0</td>\n",
       "      <td>9.975</td>\n",
       "      <td>22.90</td>\n",
       "      <td>36.525</td>\n",
       "      <td>49.6</td>\n",
       "    </tr>\n",
       "    <tr>\n",
       "      <th>Newspaper</th>\n",
       "      <td>200.0</td>\n",
       "      <td>30.5540</td>\n",
       "      <td>21.778621</td>\n",
       "      <td>0.3</td>\n",
       "      <td>12.750</td>\n",
       "      <td>25.75</td>\n",
       "      <td>45.100</td>\n",
       "      <td>114.0</td>\n",
       "    </tr>\n",
       "    <tr>\n",
       "      <th>Sales</th>\n",
       "      <td>200.0</td>\n",
       "      <td>14.0225</td>\n",
       "      <td>5.217457</td>\n",
       "      <td>1.6</td>\n",
       "      <td>10.375</td>\n",
       "      <td>12.90</td>\n",
       "      <td>17.400</td>\n",
       "      <td>27.0</td>\n",
       "    </tr>\n",
       "  </tbody>\n",
       "</table>\n",
       "</div>"
      ],
      "text/plain": [
       "           count      mean        std  min     25%     50%      75%    max\n",
       "TV         200.0  147.0425  85.854236  0.7  74.375  149.75  218.825  296.4\n",
       "Radio      200.0   23.2640  14.846809  0.0   9.975   22.90   36.525   49.6\n",
       "Newspaper  200.0   30.5540  21.778621  0.3  12.750   25.75   45.100  114.0\n",
       "Sales      200.0   14.0225   5.217457  1.6  10.375   12.90   17.400   27.0"
      ]
     },
     "execution_count": 6,
     "metadata": {},
     "output_type": "execute_result"
    }
   ],
   "source": [
    "data.describe(include=\"all\").transpose()"
   ]
  },
  {
   "cell_type": "code",
   "execution_count": 9,
   "metadata": {},
   "outputs": [
    {
     "data": {
      "text/plain": [
       "(-1.2264948242299691, -0.06985336213274573)"
      ]
     },
     "execution_count": 9,
     "metadata": {},
     "output_type": "execute_result"
    }
   ],
   "source": [
    "data.TV.kurtosis(), data.TV.skew()"
   ]
  },
  {
   "cell_type": "code",
   "execution_count": 10,
   "metadata": {},
   "outputs": [
    {
     "data": {
      "text/plain": [
       "<seaborn.axisgrid.FacetGrid at 0x7fb3cb874b20>"
      ]
     },
     "execution_count": 10,
     "metadata": {},
     "output_type": "execute_result"
    },
    {
     "data": {
      "image/png": "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\n",
      "text/plain": [
       "<Figure size 360x360 with 1 Axes>"
      ]
     },
     "metadata": {
      "needs_background": "light"
     },
     "output_type": "display_data"
    }
   ],
   "source": [
    "import seaborn as sns\n",
    "sns.displot(data[\"Sales\"], kde = True)"
   ]
  },
  {
   "cell_type": "code",
   "execution_count": 9,
   "metadata": {},
   "outputs": [
    {
     "data": {
      "text/plain": [
       "(200, 4)"
      ]
     },
     "execution_count": 9,
     "metadata": {},
     "output_type": "execute_result"
    }
   ],
   "source": [
    "# print the shape of the DataFrame\n",
    "data.shape"
   ]
  },
  {
   "cell_type": "code",
   "execution_count": 7,
   "metadata": {},
   "outputs": [
    {
     "data": {
      "text/plain": [
       "<AxesSubplot:xlabel='Newspaper', ylabel='Sales'>"
      ]
     },
     "execution_count": 7,
     "metadata": {},
     "output_type": "execute_result"
    },
    {
     "data": {
      "image/png": "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\n",
      "text/plain": [
       "<Figure size 1152x576 with 3 Axes>"
      ]
     },
     "metadata": {
      "needs_background": "light"
     },
     "output_type": "display_data"
    }
   ],
   "source": [
    "# visualize the relationship between the features and the response using scatterplots\n",
    "fig, axs = plt.subplots(1, 3, sharey=True)\n",
    "data.plot(kind='scatter', x='TV', y='Sales', ax=axs[0], figsize=(16, 8))\n",
    "data.plot(kind='scatter', x='Radio', y='Sales', ax=axs[1])\n",
    "data.plot(kind='scatter', x='Newspaper', y='Sales', ax=axs[2])"
   ]
  },
  {
   "cell_type": "code",
   "execution_count": 11,
   "metadata": {},
   "outputs": [
    {
     "data": {
      "text/html": [
       "<div>\n",
       "<style scoped>\n",
       "    .dataframe tbody tr th:only-of-type {\n",
       "        vertical-align: middle;\n",
       "    }\n",
       "\n",
       "    .dataframe tbody tr th {\n",
       "        vertical-align: top;\n",
       "    }\n",
       "\n",
       "    .dataframe thead th {\n",
       "        text-align: right;\n",
       "    }\n",
       "</style>\n",
       "<table border=\"1\" class=\"dataframe\">\n",
       "  <thead>\n",
       "    <tr style=\"text-align: right;\">\n",
       "      <th></th>\n",
       "      <th>TV</th>\n",
       "      <th>Radio</th>\n",
       "      <th>Newspaper</th>\n",
       "      <th>Sales</th>\n",
       "    </tr>\n",
       "  </thead>\n",
       "  <tbody>\n",
       "    <tr>\n",
       "      <th>TV</th>\n",
       "      <td>1.000000</td>\n",
       "      <td>0.054809</td>\n",
       "      <td>0.056648</td>\n",
       "      <td>0.782224</td>\n",
       "    </tr>\n",
       "    <tr>\n",
       "      <th>Radio</th>\n",
       "      <td>0.054809</td>\n",
       "      <td>1.000000</td>\n",
       "      <td>0.354104</td>\n",
       "      <td>0.576223</td>\n",
       "    </tr>\n",
       "    <tr>\n",
       "      <th>Newspaper</th>\n",
       "      <td>0.056648</td>\n",
       "      <td>0.354104</td>\n",
       "      <td>1.000000</td>\n",
       "      <td>0.228299</td>\n",
       "    </tr>\n",
       "    <tr>\n",
       "      <th>Sales</th>\n",
       "      <td>0.782224</td>\n",
       "      <td>0.576223</td>\n",
       "      <td>0.228299</td>\n",
       "      <td>1.000000</td>\n",
       "    </tr>\n",
       "  </tbody>\n",
       "</table>\n",
       "</div>"
      ],
      "text/plain": [
       "                 TV     Radio  Newspaper     Sales\n",
       "TV         1.000000  0.054809   0.056648  0.782224\n",
       "Radio      0.054809  1.000000   0.354104  0.576223\n",
       "Newspaper  0.056648  0.354104   1.000000  0.228299\n",
       "Sales      0.782224  0.576223   0.228299  1.000000"
      ]
     },
     "execution_count": 11,
     "metadata": {},
     "output_type": "execute_result"
    }
   ],
   "source": [
    "data.corr()"
   ]
  },
  {
   "cell_type": "markdown",
   "metadata": {},
   "source": [
    "## Questions About the Advertising Data\n",
    "\n",
    "On the basis of this data, how should you spend advertising money in the future?\n",
    
    "\n",
    "1. Is there a relationship between ads and sales?\n",
    "2. How strong is that relationship?\n",
    "3. Which ad types contribute to sales?\n",
    "4. What is the effect of each ad type of sales?\n",
    "5. Given ad spending, can sales be predicted?\n",
    "\n",
    "Exploring these questions below."
   ]
  },
  {
   "cell_type": "code",
   "execution_count": 27,
   "metadata": {},
   "outputs": [],
   "source": [
    "X = data[[\"TV\"]]\n",
    "y = data[\"Sales\"]"
   ]
  },
  {
   "cell_type": "code",
   "execution_count": 12,
   "metadata": {},
   "outputs": [],
   "source": [
    "from sklearn.linear_model import LinearRegression\n",
    "from sklearn.metrics import mean_squared_error, mean_absolute_error, mean_absolute_percentage_error \n",
    "from sklearn.model_selection import GridSearchCV, train_test_split\n",
    "from math import sqrt"
   ]
  },
  {
   "cell_type": "code",
   "execution_count": 13,
   "metadata": {},
   "outputs": [
    {
     "data": {
      "text/plain": [
       "LinearRegression()"
      ]
     },
     "execution_count": 13,
     "metadata": {},
     "output_type": "execute_result"
    }
   ],
   "source": [
    "LR_model1 = LinearRegression()\n",
    "LR_model1.fit(X, y)\n"
   ]
  },
  {
   "cell_type": "code",
   "execution_count": 15,
   "metadata": {},
   "outputs": [],
   "source": [
    "LR_model1.intercept_, LR_model1.coef_\n",
    "predictions = LR_model1.predict(X)"
   ]
  },
  {
   "cell_type": "code",
   "execution_count": 18,
   "metadata": {},
   "outputs": [
    {
     "data": {
      "text/plain": [
       "(array([17.97077451,  9.14797405,  7.85022376, 14.23439457, 15.62721814]),\n",
       " 1    22.1\n",
       " 2    10.4\n",
       " 3     9.3\n",
       " 4    18.5\n",
       " 5    12.9\n",
       " Name: Sales, dtype: float64)"
      ]
     },
     "execution_count": 18,
     "metadata": {},
     "output_type": "execute_result"
    }
   ],
   "source": [
    "predictions[0:5], y[0:5]"
   ]
  },
  {
   "cell_type": "code",
   "execution_count": 22,
   "metadata": {},
   "outputs": [],
   "source": [
    "from sklearn.metrics import mean_absolute_error, mean_absolute_percentage_error, mean_squared_error"
   ]
  },
  {
   "cell_type": "code",
   "execution_count": 26,
   "metadata": {},
   "outputs": [
    {
     "name": "stdout",
     "output_type": "stream",
     "text": [
      "MAE 2.549806038927486\n",
      "MSE 10.512652915656757\n",
      "RMSE 3.2423221486546887\n",
      "MAPE 17.81299536377402\n"
     ]
    }
   ],
   "source": [
    "print(\"MAE\",mean_absolute_error(predictions, y))\n",
    "print(\"MSE\", mean_squared_error(predictions,y))\n",
    "print(\"RMSE\", sqrt( mean_squared_error(predictions,y)  ))\n",
    "print(\"MAPE\", mean_absolute_percentage_error(predictions,y)*100)"
   ]
  },
  {
   "cell_type": "code",
   "execution_count": 21,
   "metadata": {},
   "outputs": [
    {
     "name": "stdout",
     "output_type": "stream",
     "text": [
      "MAE is: 2.549806038927486\n",
      "MAPE is: 17.81299536377402 percentage\n",
      "MSE is: 10.512652915656757\n",
      "RMSE is: 3.2423221486546887\n"
     ]
    }
   ],
   "source": [
    "y_hat = LR_model1.predict(X) \n",
    "print(\"MAE is:\", mean_absolute_error(predictions, y))\n",
    "print(\"MAPE is:\", mean_absolute_percentage_error(predictions, y)*100,\"percentage\")\n",
    "print(\"MSE is:\", mean_squared_error(predictions, y))\n",
    "print(\"RMSE is:\", sqrt(mean_squared_error(predictions, y)))"
   ]
  },
  {
   "cell_type": "code",
   "execution_count": 20,
   "metadata": {},
   "outputs": [
    {
     "data": {
      "text/plain": [
       "(array([17.97077451,  9.14797405,  7.85022376, 14.23439457, 15.62721814,\n",
       "         7.44616232,  9.76595037, 12.74649773,  7.44140866, 16.53041431]),\n",
       " 1     22.1\n",
       " 2     10.4\n",
       " 3      9.3\n",
       " 4     18.5\n",
       " 5     12.9\n",
       " 6      7.2\n",
       " 7     11.8\n",
       " 8     13.2\n",
       " 9      4.8\n",
       " 10    10.6\n",
       " Name: Sales, dtype: float64)"
      ]
     },
     "execution_count": 20,
     "metadata": {},
     "output_type": "execute_result"
    }
   ],
   "source": [
    "LR_model1.predict(X[0:10]), y[0:10]"
   ]
  },
  {
   "cell_type": "code",
   "execution_count": 14,
   "metadata": {},
   "outputs": [
    {
     "data": {
      "text/plain": [
       "LinearRegression()"
      ]
     },
     "execution_count": 14,
     "metadata": {},
     "output_type": "execute_result"
    }
   ],
   "source": [
    "lin_reg = LinearRegression()\n",
    "lin_reg.fit( X, y )\n"
   ]
  },
  {
   "cell_type": "code",
   "execution_count": 9,
   "metadata": {},
   "outputs": [
    {
     "data": {
      "text/plain": [
       "(7.0325935491276965, array([0.04753664]))"
      ]
     },
     "execution_count": 9,
     "metadata": {},
     "output_type": "execute_result"
    }
   ],
   "source": [
    "lin_reg.intercept_ , lin_reg.coef_"
   ]
  },
  {
   "cell_type": "code",
   "execution_count": 13,
   "metadata": {},
   "outputs": [
    {
     "data": {
      "text/plain": [
       "array([9.40942557])"
      ]
     },
     "execution_count": 13,
     "metadata": {},
     "output_type": "execute_result"
    }
   ],
   "source": [
    "X_new = pd.DataFrame({'TV': [50]})\n",
    "lin_reg.predict(X_new)"
   ]
  },
  {
   "cell_type": "code",
   "execution_count": 11,
   "metadata": {},
   "outputs": [],
   "source": [
    "y_pred = lin_reg.predict( X )"
   ]
  },
  {
   "cell_type": "code",
   "execution_count": 12,
   "metadata": {},
   "outputs": [
    {
     "name": "stdout",
     "output_type": "stream",
     "text": [
      " Error metrics: MSE  10.512652915656757\n",
      " Error metrics: RMSE  3.2423221486546887\n",
      " Error metrics: MAE  2.549806038927486\n",
      " Error metrics: MAPE  0.20576595439207787\n"
     ]
    }
   ],
   "source": [
    "print(\" Error metrics: MSE \", mean_squared_error(y, y_pred))\n",
    "print(\" Error metrics: RMSE \", math.sqrt(mean_squared_error(y, y_pred)))\n",
    "print(\" Error metrics: MAE \", mean_absolute_error(y, y_pred))\n",
    "print(\" Error metrics: MAPE \", mean_absolute_percentage_error(y, y_pred))\n"
   ]
  },
  {
   "cell_type": "code",
   "execution_count": 27,
   "metadata": {},
   "outputs": [
    {
     "name": "stdout",
     "output_type": "stream",
     "text": [
      "7.0325935491276965\n",
      "[0.04753664]\n"
     ]
    }
   ],
   "source": [
    "# create X and y\n",
    "#taking only one variable for now\n",
    "feature_cols = ['TV']\n",
    "X = data[feature_cols]\n",
    "y = data.Sales\n",
    "\n",
    "# follow the usual sklearn pattern: import, instantiate, fit\n",
    "from sklearn.linear_model import LinearRegression\n",
    "lm = LinearRegression()\n",
    "lm.fit(X, y)\n",
    "\n",
    "# print intercept and coefficients\n",
    "print(lm.intercept_)\n",
    "print(lm.coef_)"
   ]
  },
  {
   "cell_type": "markdown",
   "metadata": {},
   "source": [
    "## Interpreting Model Coefficients\n",
    "\n",
    "How do you interpret the TV coefficient ($\\beta_1$)?\n",
    "- A \"unit\" increase in TV ad spending was **associated with** a 0.047537 \"unit\" increase in Sales.\n",
    "- Or more clearly: An additional $1,000 spent on TV ads was **associated with** an increase in sales of 47.537 widgets.\n",
    "\n",
    "Note that if an increase in TV ad spending was associated with a **decrease** in sales, $\\beta_1$ would be **negative**."
   ]
  },
  {
   "cell_type": "markdown",
   "metadata": {},
   "source": [
    "## Using the Model for Prediction\n",
    "\n",
    "Let's say that there was a new market where the TV advertising spend was **$50.000**. How would you predict the sales in that market?\n",
    "\n",
    "$$y = \\beta_0 + \\beta_1x$$\n",
    "$$y = 7.032594 + 0.047537 \\times 50$$"
   ]
  },
  {
   "cell_type": "code",
   "execution_count": 26,
   "metadata": {},
   "outputs": [
    {
     "data": {
      "text/plain": [
       "9.409444"
      ]
     },
     "execution_count": 26,
     "metadata": {},
     "output_type": "execute_result"
    }
   ],
   "source": [
    "# manually calculate the prediction\n",
    "7.032594 + 0.047537*50"
   ]
  },
  {
   "cell_type": "markdown",
   "metadata": {},
   "source": [
    "Thus, you would predict Sales of **9,409 widgets** in that market."
   ]
  },
  {
   "cell_type": "code",
   "execution_count": 31,
   "metadata": {},
   "outputs": [
    {
     "data": {
      "text/html": [
       "<div>\n",
       "<style scoped>\n",
       "    .dataframe tbody tr th:only-of-type {\n",
       "        vertical-align: middle;\n",
       "    }\n",
       "\n",
       "    .dataframe tbody tr th {\n",
       "        vertical-align: top;\n",
       "    }\n",
       "\n",
       "    .dataframe thead th {\n",
       "        text-align: right;\n",
       "    }\n",
       "</style>\n",
       "<table border=\"1\" class=\"dataframe\">\n",
       "  <thead>\n",
       "    <tr style=\"text-align: right;\">\n",
       "      <th></th>\n",
       "      <th>TV</th>\n",
       "    </tr>\n",
       "  </thead>\n",
       "  <tbody>\n",
       "    <tr>\n",
       "      <th>0</th>\n",
       "      <td>50</td>\n",
       "    </tr>\n",
       "  </tbody>\n",
       "</table>\n",
       "</div>"
      ],
      "text/plain": [
       "   TV\n",
       "0  50"
      ]
     },
     "execution_count": 31,
     "metadata": {},
     "output_type": "execute_result"
    }
   ],
   "source": [
    "# you have to create a DataFrame since the Statsmodels formula interface expects it\n",
    "X_new = pd.DataFrame({'TV': [50]})\n",
    "X_new.head()"
   ]
  }
